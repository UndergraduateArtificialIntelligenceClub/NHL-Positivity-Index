{
 "cells": [
  {
   "cell_type": "code",
   "execution_count": 1,
   "id": "55214fe8",
   "metadata": {},
   "outputs": [],
   "source": [
    "import pandas as pd"
   ]
  },
  {
   "cell_type": "code",
   "execution_count": 8,
   "id": "900b9cec",
   "metadata": {},
   "outputs": [],
   "source": [
    "df = pd.read_json(\"feb1_to_feb15_data.json\")"
   ]
  },
  {
   "cell_type": "code",
   "execution_count": 9,
   "id": "e05845f2",
   "metadata": {},
   "outputs": [],
   "source": [
    "df1 = pd.read_json(\"feb1_to_feb15.json\")"
   ]
  },
  {
   "cell_type": "code",
   "execution_count": 10,
   "id": "c1ae9605",
   "metadata": {},
   "outputs": [
    {
     "data": {
      "text/html": [
       "<div>\n",
       "<style scoped>\n",
       "    .dataframe tbody tr th:only-of-type {\n",
       "        vertical-align: middle;\n",
       "    }\n",
       "\n",
       "    .dataframe tbody tr th {\n",
       "        vertical-align: top;\n",
       "    }\n",
       "\n",
       "    .dataframe thead th {\n",
       "        text-align: right;\n",
       "    }\n",
       "</style>\n",
       "<table border=\"1\" class=\"dataframe\">\n",
       "  <thead>\n",
       "    <tr style=\"text-align: right;\">\n",
       "      <th></th>\n",
       "      <th>submission_id</th>\n",
       "      <th>comment_id</th>\n",
       "      <th>body</th>\n",
       "      <th>score</th>\n",
       "      <th>date</th>\n",
       "      <th>subreddit</th>\n",
       "    </tr>\n",
       "  </thead>\n",
       "  <tbody>\n",
       "    <tr>\n",
       "      <th>0</th>\n",
       "      <td>1ah4bhu</td>\n",
       "      <td>komiesq</td>\n",
       "      <td>The rentals that have been traded so far (Lind...</td>\n",
       "      <td>7</td>\n",
       "      <td>2024-02-02</td>\n",
       "      <td>wildhockey</td>\n",
       "    </tr>\n",
       "    <tr>\n",
       "      <th>1</th>\n",
       "      <td>1ah4bhu</td>\n",
       "      <td>koli0w6</td>\n",
       "      <td>Is there anything behind the rumor on X that V...</td>\n",
       "      <td>3</td>\n",
       "      <td>2024-02-02</td>\n",
       "      <td>wildhockey</td>\n",
       "    </tr>\n",
       "    <tr>\n",
       "      <th>2</th>\n",
       "      <td>1ah4bhu</td>\n",
       "      <td>konuck2</td>\n",
       "      <td>[deleted]</td>\n",
       "      <td>0</td>\n",
       "      <td>2024-02-02</td>\n",
       "      <td>wildhockey</td>\n",
       "    </tr>\n",
       "    <tr>\n",
       "      <th>3</th>\n",
       "      <td>1ah4bhu</td>\n",
       "      <td>kolxg6x</td>\n",
       "      <td>The Vancouver media has been pushing hard for ...</td>\n",
       "      <td>7</td>\n",
       "      <td>2024-02-02</td>\n",
       "      <td>wildhockey</td>\n",
       "    </tr>\n",
       "    <tr>\n",
       "      <th>4</th>\n",
       "      <td>1ah4bhu</td>\n",
       "      <td>komi5vu</td>\n",
       "      <td>That would be a laughably bad trade for the Wi...</td>\n",
       "      <td>3</td>\n",
       "      <td>2024-02-02</td>\n",
       "      <td>wildhockey</td>\n",
       "    </tr>\n",
       "    <tr>\n",
       "      <th>...</th>\n",
       "      <td>...</td>\n",
       "      <td>...</td>\n",
       "      <td>...</td>\n",
       "      <td>...</td>\n",
       "      <td>...</td>\n",
       "      <td>...</td>\n",
       "    </tr>\n",
       "    <tr>\n",
       "      <th>754</th>\n",
       "      <td>1ag9ebe</td>\n",
       "      <td>koh4bf9</td>\n",
       "      <td>Bertuzzi was initially on the first line, whic...</td>\n",
       "      <td>-6</td>\n",
       "      <td>2024-02-01</td>\n",
       "      <td>leafs</td>\n",
       "    </tr>\n",
       "    <tr>\n",
       "      <th>755</th>\n",
       "      <td>1ag9ebe</td>\n",
       "      <td>koh4py4</td>\n",
       "      <td>We’ll be 1 of 16 teams who all have an equal c...</td>\n",
       "      <td>7</td>\n",
       "      <td>2024-02-01</td>\n",
       "      <td>leafs</td>\n",
       "    </tr>\n",
       "    <tr>\n",
       "      <th>756</th>\n",
       "      <td>1ag9ebe</td>\n",
       "      <td>kohxi4c</td>\n",
       "      <td>Bertuzzi has a NMC.  Move on.</td>\n",
       "      <td>1</td>\n",
       "      <td>2024-02-01</td>\n",
       "      <td>leafs</td>\n",
       "    </tr>\n",
       "    <tr>\n",
       "      <th>757</th>\n",
       "      <td>1ag9ebe</td>\n",
       "      <td>koh5oht</td>\n",
       "      <td>I wouldn't say equal chance, and I'm worried h...</td>\n",
       "      <td>1</td>\n",
       "      <td>2024-02-01</td>\n",
       "      <td>leafs</td>\n",
       "    </tr>\n",
       "    <tr>\n",
       "      <th>758</th>\n",
       "      <td>1ag9ebe</td>\n",
       "      <td>kohuxd0</td>\n",
       "      <td>We should trade him at the TDL for someone fei...</td>\n",
       "      <td>1</td>\n",
       "      <td>2024-02-01</td>\n",
       "      <td>leafs</td>\n",
       "    </tr>\n",
       "  </tbody>\n",
       "</table>\n",
       "<p>759 rows × 6 columns</p>\n",
       "</div>"
      ],
      "text/plain": [
       "    submission_id comment_id  \\\n",
       "0         1ah4bhu    komiesq   \n",
       "1         1ah4bhu    koli0w6   \n",
       "2         1ah4bhu    konuck2   \n",
       "3         1ah4bhu    kolxg6x   \n",
       "4         1ah4bhu    komi5vu   \n",
       "..            ...        ...   \n",
       "754       1ag9ebe    koh4bf9   \n",
       "755       1ag9ebe    koh4py4   \n",
       "756       1ag9ebe    kohxi4c   \n",
       "757       1ag9ebe    koh5oht   \n",
       "758       1ag9ebe    kohuxd0   \n",
       "\n",
       "                                                  body  score       date  \\\n",
       "0    The rentals that have been traded so far (Lind...      7 2024-02-02   \n",
       "1    Is there anything behind the rumor on X that V...      3 2024-02-02   \n",
       "2                                            [deleted]      0 2024-02-02   \n",
       "3    The Vancouver media has been pushing hard for ...      7 2024-02-02   \n",
       "4    That would be a laughably bad trade for the Wi...      3 2024-02-02   \n",
       "..                                                 ...    ...        ...   \n",
       "754  Bertuzzi was initially on the first line, whic...     -6 2024-02-01   \n",
       "755  We’ll be 1 of 16 teams who all have an equal c...      7 2024-02-01   \n",
       "756                      Bertuzzi has a NMC.  Move on.      1 2024-02-01   \n",
       "757  I wouldn't say equal chance, and I'm worried h...      1 2024-02-01   \n",
       "758  We should trade him at the TDL for someone fei...      1 2024-02-01   \n",
       "\n",
       "      subreddit  \n",
       "0    wildhockey  \n",
       "1    wildhockey  \n",
       "2    wildhockey  \n",
       "3    wildhockey  \n",
       "4    wildhockey  \n",
       "..          ...  \n",
       "754       leafs  \n",
       "755       leafs  \n",
       "756       leafs  \n",
       "757       leafs  \n",
       "758       leafs  \n",
       "\n",
       "[759 rows x 6 columns]"
      ]
     },
     "execution_count": 10,
     "metadata": {},
     "output_type": "execute_result"
    }
   ],
   "source": [
    "df1"
   ]
  },
  {
   "cell_type": "code",
   "execution_count": 36,
   "id": "db1ae84f",
   "metadata": {},
   "outputs": [
    {
     "data": {
      "text/plain": [
       "leafs                8609\n",
       "Flyers               7263\n",
       "canucks              5389\n",
       "devils               4231\n",
       "rangers              3467\n",
       "Habs                 3046\n",
       "CalgaryFlames        2686\n",
       "DallasStars          2629\n",
       "wildhockey           2358\n",
       "SeattleKraken        2118\n",
       "penguins             2062\n",
       "canes                2048\n",
       "OttawaSenators       1897\n",
       "stlouisblues         1737\n",
       "sabres               1615\n",
       "caps                 1440\n",
       "losangeleskings      1438\n",
       "Predators            1351\n",
       "goldenknights        1291\n",
       "FloridaPanthers      1056\n",
       "hawks                 994\n",
       "BlueJackets           740\n",
       "AnaheimDucks          569\n",
       "ColoradoAvalanche     502\n",
       "Coyotes               345\n",
       "TampaBayLightning     213\n",
       "SanJoseSharks         149\n",
       "Name: subreddit, dtype: int64"
      ]
     },
     "execution_count": 36,
     "metadata": {},
     "output_type": "execute_result"
    }
   ],
   "source": [
    "df[\"subreddit\"].value_counts()"
   ]
  },
  {
   "cell_type": "code",
   "execution_count": 18,
   "id": "ab1a6114",
   "metadata": {},
   "outputs": [
    {
     "data": {
      "text/plain": [
       "27"
      ]
     },
     "execution_count": 18,
     "metadata": {},
     "output_type": "execute_result"
    }
   ],
   "source": [
    "len(df['subreddit'].unique())"
   ]
  },
  {
   "cell_type": "code",
   "execution_count": 20,
   "id": "b8f07e1c",
   "metadata": {},
   "outputs": [
    {
     "data": {
      "text/plain": [
       "array(['Predators', 'OttawaSenators', 'leafs', 'losangeleskings',\n",
       "       'devils', 'SeattleKraken', 'stlouisblues', 'DallasStars', 'hawks',\n",
       "       'canucks', 'FloridaPanthers', 'sabres', 'SanJoseSharks', 'rangers',\n",
       "       'Habs', 'wildhockey', 'CalgaryFlames', 'Coyotes', 'caps',\n",
       "       'BlueJackets', 'goldenknights', 'TampaBayLightning',\n",
       "       'AnaheimDucks', 'canes', 'Flyers', 'penguins', 'ColoradoAvalanche'],\n",
       "      dtype=object)"
      ]
     },
     "execution_count": 20,
     "metadata": {},
     "output_type": "execute_result"
    }
   ],
   "source": [
    "df['subreddit'].unique()"
   ]
  },
  {
   "cell_type": "code",
   "execution_count": 32,
   "id": "a8e93d91",
   "metadata": {},
   "outputs": [],
   "source": [
    "SUBREDDIT_MAPPING = {\n",
    "    \"AnaheimDucks\": \"ANA\",\n",
    "    \"Coyotes\": \"ARI\",\n",
    "    \"BostonBruins\": \"BOS\",\n",
    "    \"sabres\": \"BUF\",\n",
    "    \"CalgaryFlames\": \"CGY\",\n",
    "    \"canes\": \"CAR\",\n",
    "    \"hawks\": \"CHI\",\n",
    "    \"ColoradoAvalanche\": \"COL\",\n",
    "    \"BlueJackets\": \"CBJ\",\n",
    "    \"DallasStars\": \"DAL\",\n",
    "    \"DetroitRedWings\": \"DET\",\n",
    "    \"EdmontonOilers\": \"EDM\",\n",
    "    \"FloridaPanthers\": \"FLA\",\n",
    "    \"losangeleskings\": \"LAK\",\n",
    "    \"wildhockey\": \"MIN\",\n",
    "    \"Habs\": \"MTL\",\n",
    "    \"Predators\": \"NSH\",\n",
    "    \"devils\": \"NJD\",\n",
    "    \"NewYorkIslanders\": \"NYI\",\n",
    "    \"rangers\": \"New York Rangers\",\n",
    "    \"OttawaSenators\": \"OTT\",\n",
    "    \"Flyers\": \"PHI\",\n",
    "    \"penguins\": \"PIT\",\n",
    "    \"SanJoseSharks\": \"SJS\",\n",
    "    \"SeattleKraken\": \"SEA\",\n",
    "    \"stlouisblues\": \"STL\",\n",
    "    \"TampaBayLightning\": \"TBL\",\n",
    "    \"leafs\": \"TOR\",\n",
    "    \"canucks\": \"VAN\",\n",
    "    \"goldenknights\": \"VGK\",\n",
    "    \"caps\": \"WSH\",\n",
    "    \"winnipegjets\": \"WPG\",\n",
    "}"
   ]
  },
  {
   "cell_type": "code",
   "execution_count": 33,
   "id": "37c5aee0",
   "metadata": {},
   "outputs": [
    {
     "data": {
      "text/plain": [
       "['AnaheimDucks',\n",
       " 'Coyotes',\n",
       " 'BostonBruins',\n",
       " 'sabres',\n",
       " 'CalgaryFlames',\n",
       " 'canes',\n",
       " 'hawks',\n",
       " 'ColoradoAvalanche',\n",
       " 'BlueJackets',\n",
       " 'DallasStars',\n",
       " 'DetroitRedWings',\n",
       " 'EdmontonOilers',\n",
       " 'FloridaPanthers',\n",
       " 'losangeleskings',\n",
       " 'wildhockey',\n",
       " 'Habs',\n",
       " 'Predators',\n",
       " 'devils',\n",
       " 'NewYorkIslanders',\n",
       " 'rangers',\n",
       " 'OttawaSenators',\n",
       " 'Flyers',\n",
       " 'penguins',\n",
       " 'SanJoseSharks',\n",
       " 'SeattleKraken',\n",
       " 'stlouisblues',\n",
       " 'TampaBayLightning',\n",
       " 'leafs',\n",
       " 'canucks',\n",
       " 'goldenknights',\n",
       " 'caps',\n",
       " 'winnipegjets']"
      ]
     },
     "execution_count": 33,
     "metadata": {},
     "output_type": "execute_result"
    }
   ],
   "source": [
    "list(SUBREDDIT_MAPPING.keys())"
   ]
  },
  {
   "cell_type": "code",
   "execution_count": 34,
   "id": "716e365a",
   "metadata": {},
   "outputs": [
    {
     "name": "stdout",
     "output_type": "stream",
     "text": [
      "BostonBruins\n",
      "DetroitRedWings\n",
      "EdmontonOilers\n",
      "NewYorkIslanders\n",
      "winnipegjets\n"
     ]
    }
   ],
   "source": [
    "for team in list(SUBREDDIT_MAPPING.keys()):\n",
    "    if team not in df['subreddit'].unique():\n",
    "        print(team)"
   ]
  },
  {
   "cell_type": "code",
   "execution_count": 35,
   "id": "184975c8",
   "metadata": {},
   "outputs": [
    {
     "data": {
      "text/plain": [
       "array(['Predators', 'OttawaSenators', 'leafs', 'losangeleskings',\n",
       "       'devils', 'SeattleKraken', 'stlouisblues', 'DallasStars', 'hawks',\n",
       "       'canucks', 'FloridaPanthers', 'sabres', 'SanJoseSharks', 'rangers',\n",
       "       'Habs', 'wildhockey', 'CalgaryFlames', 'Coyotes', 'caps',\n",
       "       'BlueJackets', 'goldenknights', 'TampaBayLightning',\n",
       "       'AnaheimDucks', 'canes', 'Flyers', 'penguins', 'ColoradoAvalanche'],\n",
       "      dtype=object)"
      ]
     },
     "execution_count": 35,
     "metadata": {},
     "output_type": "execute_result"
    }
   ],
   "source": [
    "df['subreddit'].unique()"
   ]
  },
  {
   "cell_type": "code",
   "execution_count": 26,
   "id": "b8004add",
   "metadata": {},
   "outputs": [
    {
     "data": {
      "text/plain": [
       "27"
      ]
     },
     "execution_count": 26,
     "metadata": {},
     "output_type": "execute_result"
    }
   ],
   "source": [
    "len(df['subreddit'].unique())"
   ]
  },
  {
   "cell_type": "code",
   "execution_count": 27,
   "id": "3860c7df",
   "metadata": {},
   "outputs": [
    {
     "data": {
      "text/plain": [
       "33"
      ]
     },
     "execution_count": 27,
     "metadata": {},
     "output_type": "execute_result"
    }
   ],
   "source": [
    "27 + 6"
   ]
  },
  {
   "cell_type": "code",
   "execution_count": 37,
   "id": "10e080df",
   "metadata": {},
   "outputs": [],
   "source": [
    "df = pd.read_json(\"clean_feb1_to_feb15_data.json\")"
   ]
  },
  {
   "cell_type": "code",
   "execution_count": 41,
   "id": "550dcd62",
   "metadata": {},
   "outputs": [
    {
     "data": {
      "text/plain": [
       "32"
      ]
     },
     "execution_count": 41,
     "metadata": {},
     "output_type": "execute_result"
    }
   ],
   "source": [
    "len(df['subreddit'].unique())"
   ]
  },
  {
   "cell_type": "code",
   "execution_count": null,
   "id": "81dda866",
   "metadata": {},
   "outputs": [],
   "source": []
  }
 ],
 "metadata": {
  "kernelspec": {
   "display_name": "Python 3 (ipykernel)",
   "language": "python",
   "name": "python3"
  },
  "language_info": {
   "codemirror_mode": {
    "name": "ipython",
    "version": 3
   },
   "file_extension": ".py",
   "mimetype": "text/x-python",
   "name": "python",
   "nbconvert_exporter": "python",
   "pygments_lexer": "ipython3",
   "version": "3.10.4"
  }
 },
 "nbformat": 4,
 "nbformat_minor": 5
}
